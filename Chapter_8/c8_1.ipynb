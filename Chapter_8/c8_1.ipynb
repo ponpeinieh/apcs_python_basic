{
 "cells": [
  {
   "cell_type": "markdown",
   "metadata": {},
   "source": [
    "## 課程內容\n",
    "### 1. 存取純文字檔案\n",
    "- 1-1. 檔案存取\n",
    "- 1-2. 檔案讀取方式\n",
    "- 1-3. 讀取時的定位\n",
    " \n",
    "\n",
    "### 2. 存取 CSV 檔案\n",
    "- 2-1. CSV 格式\n",
    "- 2-2. 讀取 CSV 檔案\n",
    "- 2-3. 寫入 CSV 檔案\n"
   ]
  },
  {
   "cell_type": "markdown",
   "metadata": {},
   "source": [
    "### Python 檔案存取\n",
    "- 使用Python內建函數open開啟檔案\n",
    "- open(fileStr, mode=′r′, buffering=-1, encoding=None, … )\n",
    "- 傳回一個檔案物件(屬於io模組)\n",
    "- fileStr：連結的檔名\n",
    "  - 相對路徑: abc.txt\n",
    "  - 絕對路徑: D:\\APCSClass\\Examples\\abc.txt\n"
   ]
  },
  {
   "cell_type": "markdown",
   "metadata": {},
   "source": [
    "### Python 檔案存取\n",
    "- open(file, mode=′r′, buffering=-1, encoding=None, … )\n",
    "- mode：檔案開啟模式\n",
    "  - r：讀取模式開啟，未指定模式時的**預設模式**\n",
    "  - w：寫入模式開啟，**原檔案內容被覆蓋**\n",
    "  - a：寫入模式開啟，內容附加在原檔案內容之後\n",
    "  - x：建立新檔案模式，**檔案已存在則開啟失敗**\n",
    "  - +：打開磁碟上的檔案進行更新，可讀可寫\n",
    "  - b：資料以二進位模式存取\n"
   ]
  },
  {
   "cell_type": "markdown",
   "metadata": {},
   "source": [
    "### Python 檔案存取\n",
    "- open(file, mode=′r′, buffering=-1, encoding=None, … )\n",
    "- buffering：緩衝設定\n",
    "  - 緩衝值為 0，不使用緩衝(僅限binary模式)\n",
    "  - 緩衝值為 1，使用line緩衝(僅限text模式)\n",
    "  - 緩衝值大於 1 ，緩衝區大小為指定的數值\n",
    "  - 緩衝值為-1(預設)，使用系統預設緩衝大小\n"
   ]
  },
  {
   "cell_type": "markdown",
   "metadata": {},
   "source": [
    "### Python 檔案存取\n",
    "- open(file, mode=′r′, buffering=-1, encoding=None, … )\n",
    "- encoding：文字編碼設定\n",
    "  - 未指定時使用預設編碼 (**Windows系統為cp950**)\n",
    "  - 常用編碼\n",
    "    - ascii(us-ascii) : 英文\n",
    "    - latin_1(iso-8859-1): 西歐\n",
    "    - big5(big5-tw) / cp950(ms950)：繁體中文\n",
    "    - utf8(utf_8, utf_8_sig) : unicode"
   ]
  },
  {
   "cell_type": "markdown",
   "metadata": {},
   "source": [
    "### Python 檔案存取\n",
    "  - close()\n",
    "    - 關閉開啟的檔案(資料流)"
   ]
  },
  {
   "cell_type": "markdown",
   "metadata": {},
   "source": [
    "### 檔案物件-讀取內容操作\n",
    "- 檔案物件方法\n",
    "  - 將檔案物件當作一個清單來使用(用在for ... in 迴圈)\n",
    "  - read(size=-1)\n",
    "    - 從文件當前位置起讀取 size 個字元數量\n",
    "    - 若無參數或size=-1，調用readall()方法讀取整個文件內容\n",
    "  - readline(size=-1)\n",
    "    - 讀取直到換行符號或檔案結尾(EOF)，傳回一個str(**包含換行字元**)\n",
    "    - 若指定size大小，則至多讀size個字元\n",
    "  - readlines()\n",
    "    - 讀取多行文字置於清單中傳回"
   ]
  },
  {
   "cell_type": "code",
   "execution_count": null,
   "metadata": {},
   "outputs": [],
   "source": [
    "import os\n",
    "print(os.listdir())"
   ]
  },
  {
   "cell_type": "code",
   "execution_count": null,
   "metadata": {},
   "outputs": [],
   "source": [
    "import locale\n",
    "print(locale.getencoding()) # default encoding in windows is 'cp950'"
   ]
  },
  {
   "cell_type": "code",
   "execution_count": 5,
   "metadata": {},
   "outputs": [
    {
     "name": "stdout",
     "output_type": "stream",
     "text": [
      "905189987\n",
      "這是中文字\n",
      "This is English letters."
     ]
    }
   ],
   "source": [
    "# file read\n",
    "# Note that : input1.txt is in utf-8 encoding, \n",
    "filename='input1.txt'\n",
    "# fi = open(filename) # error: wrong encoding\n",
    "fi = open(filename, encoding='utf_8') # specifying encoding is needed\n",
    "for l in fi: # fi 用在 for in loop\n",
    "    print(l,end='') # 不換行\n",
    "fi.close()"
   ]
  },
  {
   "cell_type": "code",
   "execution_count": null,
   "metadata": {},
   "outputs": [],
   "source": [
    "# file read\n",
    "filename='input1.txt'\n",
    "fi = open(filename, encoding='utf_8') \n",
    "l = fi.readline() # readline() 回傳包含換行符號\n",
    "while l:\n",
    "    print(l,end='') # 不換行\n",
    "    l = fi.readline()\n",
    "fi.close()"
   ]
  },
  {
   "cell_type": "code",
   "execution_count": null,
   "metadata": {},
   "outputs": [],
   "source": [
    "# input2.txt is in cp950 encoding.\n",
    "#\n",
    "filename='input2.txt'\n",
    "fi = open(filename)\n",
    "l = fi.readline()\n",
    "while l:\n",
    "    print(l,end='')\n",
    "    l = fi.readline()\n",
    "fi.close()"
   ]
  },
  {
   "cell_type": "code",
   "execution_count": null,
   "metadata": {},
   "outputs": [],
   "source": [
    "# try - except - finally\n",
    "# ensure the file is closed afterall.\n",
    "#\n",
    "filename='input1.txt'\n",
    "try: \n",
    "    fi = open(filename)\n",
    "    l = fi.readline()\n",
    "    while l:\n",
    "        print(l,end='')\n",
    "        l = fi.readline()\n",
    "except Exception as e:\n",
    "    print(type(e),str(e))\n",
    "finally:\n",
    "    fi.close()"
   ]
  },
  {
   "cell_type": "markdown",
   "metadata": {},
   "source": [
    "### 檔案物件-輸出資料操作\n",
    "- 使用print()輸出至檔案\n",
    "  - print(*objects, sep=' ', end='\\n', file=sys.stdout, flush=False)\n",
    "    - file參數預設為標準輸出**sys.stdout**，輸出至Console\n",
    "    - 將file參數設定為檔案物件，列印內容輸出至指定檔案\n",
    "    - flush=True, 將緩衝區的內容沖入輸出流"
   ]
  },
  {
   "cell_type": "code",
   "execution_count": 4,
   "metadata": {},
   "outputs": [],
   "source": [
    "# Write to file\n",
    "output_text='''兩隻老虎，兩隻老虎，\n",
    "跑得快！跑得快！\n",
    "一隻沒有眼睛，\n",
    "一隻沒有尾巴，\n",
    "真奇怪！真奇怪！'''\n",
    "filename='output1.txt'\n",
    "try: \n",
    "    fi=open(filename, mode='w', encoding='utf_8') # need to specify 'mode'\n",
    "    print(output_text, file=fi) # output stream is the 'file object'\n",
    "except Exception as e:\n",
    "    print(type(e),str(e))\n",
    "finally:\n",
    "    fi.close()"
   ]
  },
  {
   "cell_type": "markdown",
   "metadata": {},
   "source": [
    "### 檔案物件-輸出資料操作\n",
    "- 檔案物件方法\n",
    "  - write(s)\n",
    "    - 將字串寫入到輸出流\n",
    "    - 傳回寫出的字元數\n",
    "  - flush()\n",
    "    - 將緩衝區的內容沖入輸出流"
   ]
  },
  {
   "cell_type": "code",
   "execution_count": 20,
   "metadata": {},
   "outputs": [],
   "source": [
    "# Append to file\n",
    "output_text='''Frère Jacques,\n",
    "Frère Jacques,\n",
    "Dormez-vous?\n",
    "Dormez-vous?\n",
    "Sonnez les matines!\n",
    "Sonnez les matines!\n",
    "Ding, dang, dong.\n",
    "Ding, dang, dong.'''\n",
    "filename='output1.txt'\n",
    "try: \n",
    "    fi=open(filename, mode='a', encoding='utf_8') # append mode\n",
    "    fi.write(output_text)\n",
    "except Exception as e:\n",
    "    print(type(e),str(e))\n",
    "finally:\n",
    "    fi.close()"
   ]
  },
  {
   "cell_type": "code",
   "execution_count": null,
   "metadata": {},
   "outputs": [],
   "source": [
    "# Append to file\n",
    "output_text='''賈克修士，\n",
    "賈克修士，\n",
    "您在睡覺嗎？\n",
    "您在睡覺嗎？\n",
    "快去敲做日課的鐘！\n",
    "快去敲做日課的鐘！\n",
    "叮，叮，鐺。\n",
    "叮，叮，鐺。'''\n",
    "filename='output1.txt'\n",
    "try: \n",
    "    fi=open(filename, mode='x', encoding='utf_8') # append mode\n",
    "    fi.write(output_text)\n",
    "except Exception as e:\n",
    "    print(type(e),str(e))\n",
    "finally:\n",
    "    fi.close()"
   ]
  },
  {
   "cell_type": "markdown",
   "metadata": {},
   "source": [
    "### with … as 語法\n",
    "\n",
    "- 檔案資源自動關閉\n",
    "    - with … as 語法：\n",
    "      - with open('file', 'r', encoding='utf_8') as f :\n",
    "    - 檔案物件支援Context Manager(上下文管理器)\n",
    "      - 當你在Python中使用with open(...) as ...語句時，這通常被稱為上下文管理器。這種結構允許以一種確保資源（例如文件操作）得到正確分配和釋放的方式來管理資源，即使在操作過程中發生錯誤。\n",
    "      - 進入with區段時傳回file物件\n",
    "      - 離開with區間，自動關閉file資源  =>  不必再呼叫close()\n"
   ]
  },
  {
   "cell_type": "markdown",
   "metadata": {},
   "source": [
    "### Context Management Protocol 管理協定\n",
    "\n",
    "- context management protocol 管理協定\n",
    "  - \\_enter()\t\n",
    "    - 進入with區段時執行\n",
    "    - 方法傳回的物件，可以使用as指定給變數\n",
    "  - \\_exit\\_()\n",
    "    - 離開with區段時執行，釋放資源\n"
   ]
  },
  {
   "cell_type": "code",
   "execution_count": null,
   "metadata": {},
   "outputs": [],
   "source": [
    "output_text='''賈克修士，\n",
    "賈克修士，\n",
    "您在睡覺嗎？\n",
    "您在睡覺嗎？\n",
    "快去敲做日課的鐘！\n",
    "快去敲做日課的鐘！\n",
    "叮，叮，鐺。\n",
    "叮，叮，鐺。'''\n",
    "filename='output1.txt'\n",
    "try: \n",
    "    with open(filename, mode='w', encoding='utf_8') as fi:\n",
    "        fi.write(output_text)\n",
    "except Exception as e:\n",
    "    print(type(e),str(e))\n",
    "\n",
    "# read it back\n",
    "try: \n",
    "    with open(filename, encoding='utf_8') as fi:\n",
    "        t = fi.read()\n",
    "        print(t)\n",
    "except Exception as e:\n",
    "    print(type(e),str(e))\n",
    "    \n"
   ]
  },
  {
   "cell_type": "markdown",
   "metadata": {},
   "source": [
    "### 讀取時的定位\n",
    "- tell( ) 方法\n",
    "  - 讀得目前存取文件所在的位元位置。\n",
    "- seek（offset [, whence=0]）方法\n",
    "  - 更改目前存取文件所在的位元位置\n",
    "  - offset 參數表示偏移的位元數。\n",
    "  - whence 參數指定偏移的參考點位置\n",
    "    - os.SEEK_SET 或 0：代表以文件的**開頭**作為參考點\n",
    "    - os.SEEK_CUR 或 1：代表以文件的**當前位置**作為參考點\n",
    "    - os.SEEK_END 或 2：代表以文件的**結尾**作為參考點\n",
    "  - 備注: 存取文字檔案時，當偏移量不等於 0 時，無法在當前位置 / 文件結尾設置參考點。"
   ]
  },
  {
   "cell_type": "code",
   "execution_count": null,
   "metadata": {},
   "outputs": [],
   "source": [
    "filename='input1.txt'\n",
    "from os import SEEK_SET\n",
    "with open(filename, encoding='utf_8') as fi:\n",
    "    print(\"目前存取位置(位元):\", fi.tell())\n",
    "    t = fi.read(17) # (text文件, read()讀取字元, 17代表字元數目)\n",
    "    print(t)\n",
    "    print(\"目前存取位置(位元):\",fi.tell()) # 注意tell()回傳所在的位元位置, utf-8中的每一個中文字佔3個位元寬, 換行符號為\\r\\n\n",
    "    fi.seek(4, SEEK_SET) # or fi.seek(4,0)\n",
    "    print(\"目前存取位置(位元):\",fi.tell())\n",
    "    t = fi.read(1) \n",
    "    print(t)"
   ]
  },
  {
   "cell_type": "code",
   "execution_count": null,
   "metadata": {},
   "outputs": [],
   "source": [
    "filename='input1.txt'\n",
    "from os import SEEK_SET, SEEK_CUR, SEEK_END\n",
    "with open(filename, mode='rb') as fi:\n",
    "    print(\"目前存取位置(位元):\", fi.tell())\n",
    "    t = fi.read(17) # (binary文件, read()讀取位元, 17代表位元數目)\n",
    "    print(t)\n",
    "    print(\"目前存取位置(位元):\",fi.tell()) # 注意tell()回傳所在的位元位置, utf-8中的每一個中文字佔3個位元寬, 換行符號為\\r\\n\n",
    "    #\n",
    "    fi.seek(4, SEEK_SET) # or fi.seek(4,0)\n",
    "    print(\"目前存取位置(位元):\",fi.tell())\n",
    "    t = fi.read(1) \n",
    "    print(t)\n",
    "    print(\"目前存取位置(位元):\",fi.tell())\n",
    "    #\n",
    "    fi.seek(4, SEEK_CUR) # or fi.seek(4,1)\n",
    "    print(\"目前存取位置(位元):\",fi.tell())\n",
    "    t = fi.read(1) \n",
    "    print(t)\n",
    "    #\n",
    "    fi.seek(0, SEEK_END) # or fi.seek(0,2) to goto end of file position.\n",
    "    print('檔案大小(位元數):', fi.tell())\n",
    "    #\n",
    "    fi.seek(-4, SEEK_END) # or fi.seek(-4,2)\n",
    "    print(\"目前存取位置(位元):\",fi.tell())\n",
    "    t = fi.read(1) \n",
    "    print(t)"
   ]
  },
  {
   "cell_type": "markdown",
   "metadata": {},
   "source": [
    "### 練習：檔案內容英文單字出現次數\n",
    "\n",
    "- 修改英文單字出現次數程式\n",
    "  - 輸入讀取檔案名稱\n",
    "  - 使用例外處理防止檔案不存在錯誤\n",
    "  - 讀入檔案資料，計算各單字出現次數\n",
    "  - 忽略大小寫差異\n",
    "  - 移除標點符號\n",
    "  - 列印出出現最多次數前十名的單字"
   ]
  },
  {
   "cell_type": "code",
   "execution_count": null,
   "metadata": {},
   "outputs": [],
   "source": [
    "def remove_symbol(word):\n",
    "    c_list=[]\n",
    "    for c in word:\n",
    "        if c.isalpha():\n",
    "            c_list.append(c)\n",
    "    return ''.join(c_list)\n",
    "#filename = 'lyrics.txt'\n",
    "filename = input('Enter the file name to read:')\n",
    "try:\n",
    "    with open(filename) as fi:\n",
    "        lyrics=fi.read()\n",
    "except:\n",
    "    print(f'Error: Can not open file {filename}')\n",
    "else:\n",
    "    words = lyrics.split()\n",
    "    import collections\n",
    "    word_dict = collections.defaultdict(int)\n",
    "    for word in words:\n",
    "        if word.isalpha():\n",
    "            word_dict[word.lower()]+=1\n",
    "        else:\n",
    "            word = remove_symbol(word)\n",
    "            word_dict[word.lower()]+=1\n",
    "    # sort on word counts\n",
    "    n = 0\n",
    "    for word in sorted(word_dict,key=lambda k: word_dict[k], reverse=True):\n",
    "        if n==10:\n",
    "            break\n",
    "        print(f'{word}-> {word_dict[word]}')\n",
    "        n+=1"
   ]
  }
 ],
 "metadata": {
  "kernelspec": {
   "display_name": "Python 3",
   "language": "python",
   "name": "python3"
  },
  "language_info": {
   "codemirror_mode": {
    "name": "ipython",
    "version": 3
   },
   "file_extension": ".py",
   "mimetype": "text/x-python",
   "name": "python",
   "nbconvert_exporter": "python",
   "pygments_lexer": "ipython3",
   "version": "3.12.6"
  }
 },
 "nbformat": 4,
 "nbformat_minor": 2
}
