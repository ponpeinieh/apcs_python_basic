{
 "cells": [
  {
   "cell_type": "markdown",
   "metadata": {},
   "source": [
    "### CSV 格式\n",
    "- Comma-Separated Values 逗號分隔值\n",
    "- 通用的簡單資料格式\n",
    "  - 資訊領域很早開始使用，沒有一致性的標準\n",
    "  - 廣泛的應用在程式之間表格資料轉移\n"
   ]
  },
  {
   "cell_type": "markdown",
   "metadata": {},
   "source": [
    "### CSV格式資料特性\n",
    "- 每一行是一筆資料\n",
    "- 資料有多個欄位, 通常用，隔開\n",
    "- 欄位為純文字型態\n",
    "- 可以被不同軟體開啟\n",
    "  - 純文字編輯器、Excel、…\n",
    "- 不限定使用的字元集(ASCII、UTF-8 、BIG5…)"
   ]
  },
  {
   "cell_type": "markdown",
   "metadata": {},
   "source": [
    "### 標準函式庫 csv 模組\n",
    "- 提供存取CSV格式表格數據的類別\n",
    "  - 程式輸出可供EXCEL讀取的數據\n",
    "  - 讀取以EXCEL編輯的數據至程式中\n",
    "- reader/writer 物件：每一行資料以**清單**型態處理\n",
    "- DictReader/DictWriter 物件：每一行資料以**字典**型態處理"
   ]
  },
  {
   "cell_type": "markdown",
   "metadata": {},
   "source": [
    "### 使用 reader 物件讀取CSV 檔案\n",
    "- 匯入csv模組\n",
    "  - import csv\n",
    "- 建立 reader 物件\n",
    "  - csv.reader(csvfile, dialect='excel', **fmtparams)\n",
    "- 使用 for-in 迴圈，逐行取出資料\n",
    "- CSV 檔案中每一行資料被包裝為一個清單，使用索引值讀取\n"
   ]
  },
  {
   "cell_type": "markdown",
   "metadata": {},
   "source": [
    "### 使用 reader 物件讀取CSV 檔案\n",
    "- csv.reader(csvfile, dialect='excel', **fmtparams)\n",
    "  - csvfile：要開啟的檔案物件\n",
    "  - dialect：指定特定CSV方言(指定一組的格式參數設定)\n",
    "    - excel (.csv)\n",
    "    - excel-tab (.tsv)\n",
    "    - unix\n",
    "  - fmtparams：覆蓋掉指定方言中的特定格式參數"
   ]
  },
  {
   "cell_type": "markdown",
   "metadata": {},
   "source": [
    "### 使用 reader 物件讀取CSV \n",
    "- 檔案常用格式參數\n",
    "  - delimiter：設定欄位分隔符號。預設為','\n",
    "  - quotechar：設定引用符號。預設為 ' \" '\n",
    "  - lineterminator：設定換行符號。預設為 '\\r\\n'\n",
    "  - strict：csv格式錯誤時是否拋出例外。預設為 False\n",
    "  - quoting：設定引用模式。預設為 QUOTE_MINIMAL。\n",
    "    - csv.QUOTE_ALL - 所有資料均使用引用符號。\n",
    "    - csv.QUOTE_MINIMAL - 只有在字串包含特殊字符時才使用引用符號。\n",
    "    - csv.QUOTE_NONNUMERIC - 引用所有不是數值的字串。\n",
    "    - csv.QUOTE_NONE - 任何資料均不使用引用符號。"
   ]
  },
  {
   "cell_type": "code",
   "execution_count": null,
   "metadata": {},
   "outputs": [],
   "source": [
    "# 資料來源: https://data.gov.tw/dataset/127023\n",
    "# csv module\n",
    "# filename : data.csv (utf-8 encoding with BOM)\n",
    "import csv\n",
    "with open('data.csv', encoding='utf_8') as f:\n",
    "    csvCursor = csv.reader(f)\n",
    "    for line in csvCursor:\n",
    "        print(line) # The first field of the first line contains BOM"
   ]
  },
  {
   "cell_type": "markdown",
   "metadata": {},
   "source": [
    "### 字元順序標記(Byte Order Mark, BOM)\n",
    "- 字元順序標記（BOM）是一種特殊的標記，通常位於文件的開頭，用於指示文件的字元順序（endianness）和所使用的編碼。它在處理Unicode文件時尤其重要。\n",
    "\n",
    "### BOM的目的\n",
    "\n",
    "**指示字元順序：**  \n",
    "在Unicode的上下文中，特別是UTF-16和UTF-32編碼中，BOM指示字元順序為：\n",
    "- 大端序（Big-Endian）：最重要的字元（MSB）首先存儲（例如：0xFEFF）。\n",
    "- 小端序（Little-Endian）：最不重要的字元（LSB）首先存儲（例如：0xFFFE）。\n",
    "\n",
    "**指定編碼：**  \n",
    "BOM也可以顯示文件是以UTF-8、UTF-16或UTF-32編碼的。雖然UTF-8不需要BOM，但仍然可以使用。BOM的存在可以幫助軟件識別文件的編碼。"
   ]
  },
  {
   "cell_type": "markdown",
   "metadata": {},
   "source": [
    "### 常見的BOM值\n",
    "\n",
    "- **UTF-8:** EF BB BF\n",
    "- **UTF-16 大端序:** FE FF\n",
    "- **UTF-16 小端序:** FF FE\n",
    "- **UTF-32 大端序:** 00 00 FE FF\n",
    "- **UTF-32 小端序:** FF FE 00 00\n",
    "\n",
    "### BOM的使用\n",
    "\n",
    "- 當文件以BOM保存時，編輯器和應用程序可以讀取BOM以確定正確的編碼和字元順序，這有助於正確顯示文件。BOM可以增強不同系統和軟件之間的兼容性，確保文件無論在什麼平台上都能正確解釋。\n",
    "- 然而，一些應用程序可能無法正確處理BOM，導致顯示奇怪字符或將BOM視為文本的一部分等問題。這在UTF-8文件中更為常見，因為許多系統不期望在UTF-8編碼的文件中出現BOM。\n",
    "- 通常建議在UTF-16和UTF-32文件中使用BOM，而在UTF-8中，使用BOM則是可選的，並且取決於具體情境。\n",
    "- 在網頁文件和其他以UTF-8為標準的情境中，許多開發者更傾向於避免使用BOM，以防止兼容性問題。"
   ]
  },
  {
   "cell_type": "markdown",
   "metadata": {},
   "source": [
    "### U+FEFF：零寬不換行空格 (Zero Width No-Break Space, ZWNBSP)\n",
    "\n",
    "1. **不可見字符**：\n",
    "   - ZWNBSP 是一個不可見的字符。它在渲染(render)時不會產生任何可見的空間，因此在需要使用不具可視表示的字符時非常有用。\n",
    "\n",
    "2. **不換行空格**：\n",
    "   - 作為不換行空格，它可防止在其位置自動換行（單詞換行）。這在文本處理中非常重要，當你希望將某些元素保持在一起而不被拆分到不同的行時。\n",
    "\n",
    "3. **編碼中的使用**：\n",
    "   - 在文件編碼的上下文中，U+FEFF 也可以用作 **字元順序標記（BOM）**，當它出現在文件的開頭時。\n",
    "   - 它指示文件的字元順序（大端序或小端序）以及所使用的編碼（如 UTF-16 或 UTF-32）。\n",
    "   - 當它在文件中的其他位置出現時，則純粹作為零寬不換行空格使用。\n",
    "\n",
    "4. **應用**：\n",
    "   - 它有時在文件處理應用程序和標記語言中被用來管理格式和排版，而不會引入可見的空隙或換行。\n",
    "\n",
    "### 總結\n",
    "\n",
    "總之，U+FEFF 在 Unicode 中有雙重用途：作為文件中的零寬不換行空格和作為編碼場景中的字元順序標記。其不可見性使其成為管理文本佈局而不改變可見內容的獨特工具。"
   ]
  },
  {
   "cell_type": "code",
   "execution_count": null,
   "metadata": {},
   "outputs": [],
   "source": [
    "# csv module\n",
    "# filename : data.csv (utf-8 encoding with BOM)\n",
    "import csv\n",
    "with open('data.csv', encoding='utf_8') as f:\n",
    "    csvCursor = csv.reader(f)\n",
    "    for line in csvCursor:\n",
    "        for field in line:\n",
    "            print(field.encode(), end='\\t')\n",
    "        print()"
   ]
  },
  {
   "cell_type": "code",
   "execution_count": null,
   "metadata": {},
   "outputs": [],
   "source": [
    "# csv module\n",
    "# filename : data.csv (utf-8 encoding with BOM)\n",
    "import csv\n",
    "with open('data.csv', encoding='utf_8') as f:\n",
    "    csvCursor = csv.reader(f)\n",
    "    for line in csvCursor:\n",
    "        for field in line:\n",
    "            print(field, end='\\t')\n",
    "        print()"
   ]
  },
  {
   "cell_type": "code",
   "execution_count": null,
   "metadata": {},
   "outputs": [],
   "source": [
    "# csv module\n",
    "# filename : data.csv (utf-8 encoding with BOM)\n",
    "# encoding of utf_8_sig means utf-8 with BOM signature\n",
    "import csv\n",
    "with open('data.csv', encoding='utf_8_sig') as f:\n",
    "    csvCursor = csv.reader(f)\n",
    "    for line in csvCursor:\n",
    "        print(line)"
   ]
  },
  {
   "cell_type": "markdown",
   "metadata": {},
   "source": [
    "在Python中，`utf-8-sig`是一種特定的編碼選項，用於處理包含字元順序標記（BOM）的UTF-8編碼文件。\n",
    "\n",
    "### 什麼是utf-8-sig？\n",
    "\n",
    "- **帶BOM的UTF-8:** `utf-8-sig`編碼實質上是UTF-8編碼，並具有識別和處理可能出現在文件開頭的BOM（0xEF 0xBB 0xBF）的一項附加功能。\n",
    "- **目的:** BOM用於顯示文件是以UTF-8編碼的。雖然UTF-8並不需要BOM，但對於需要了解文件編碼的軟件來說，它是有幫助的。使用`utf-8-sig`編碼時，如果文件中存在BOM，則在讀取文件時會自動檢測並刪除該BOM。\n",
    "\n",
    "### 為什麼使用utf-8-sig？\n",
    "\n",
    "- **兼容性:** 一些文本文件，特別是由某些應用程序（如Microsoft Excel）創建的文件，可能會包含BOM。使用`utf-8-sig`可以讓Python正確讀取這些文件，而無需手動去除BOM。"
   ]
  },
  {
   "cell_type": "code",
   "execution_count": null,
   "metadata": {},
   "outputs": [],
   "source": [
    "# using quoting parameter: QUOTE_NONNUMERIC\n",
    "# Instructs reader objects to convert all non-quoted fields to type float.\n",
    "import csv\n",
    "with open('data2.csv', encoding='utf-8-sig') as f:\n",
    "    csvCursor = csv.reader(f,quoting=csv.QUOTE_NONNUMERIC)\n",
    "    for line in csvCursor:\n",
    "        print(line)"
   ]
  },
  {
   "cell_type": "code",
   "execution_count": null,
   "metadata": {},
   "outputs": [],
   "source": [
    "# data3.csv using cp950 encoding (the default in Windows)\n",
    "# It uses 'tab' as the delimiter symbol\n",
    "import csv\n",
    "with open('data3.csv') as f: \n",
    "    csvCursor = csv.reader(f, quoting=csv.QUOTE_NONNUMERIC, dialect='excel-tab')\n",
    "    for line in csvCursor:\n",
    "        print(line)"
   ]
  },
  {
   "cell_type": "markdown",
   "metadata": {},
   "source": [
    "### 使用 DictReader 物件讀取CSV 檔案\n",
    "- 匯入csv模組\n",
    "  - import csv\n",
    "- 建立 DictReader 物件\n",
    "  - csv.DictReader(csvfile, fields=None, restkey=None, restval=None, dialect= 'excel', *args, **kwds)\n",
    "- 使用 for-in 迴圈， 逐行取出資料\n",
    "- CSV 檔案中每一行資料被包裝為一個dict，使用欄位名稱(key)讀取\n"
   ]
  },
  {
   "cell_type": "markdown",
   "metadata": {},
   "source": [
    "- csv.DictReader(csvfile, fields=None, restkey=None, restval=None, \tdialect= 'excel', *args, **kwds)\n",
    "  - csvfile：要開啟的檔案物件\n",
    "  - fields：資料欄位名稱清單，未指定則以檔案第一行做為名稱\n",
    "  - restkey：資料欄位比名稱清單多時，剩餘數據使用此名稱\n",
    "  - restval：名稱清單比資料欄位多時，剩餘名稱使用此數據\n",
    "  - dialect：指定特定CSV方言(代表一組的格式參數設定)\n",
    "  - *args：額外的位置參數\n",
    "  - **kwds：額外的名稱參數\n"
   ]
  },
  {
   "cell_type": "code",
   "execution_count": null,
   "metadata": {},
   "outputs": [],
   "source": [
    "# https://catalog.data.gov/dataset/adoptable-pets\n",
    "import csv\n",
    "filename='Adoptable_Pets.csv'\n",
    "with open(filename) as fi:\n",
    "    dictReader = csv.DictReader(fi)\n",
    "    for record in dictReader:\n",
    "        # Pet name,Animal Type,Pet Age,Breed\n",
    "        print(record['Pet name'], record['Animal Type'], record['Pet Age'], record['Breed'], sep=', ')\n"
   ]
  },
  {
   "cell_type": "markdown",
   "metadata": {},
   "source": [
    "### 使用 writer 物件輸出至CSV 檔案\n",
    "  - 匯入csv模組\n",
    "    - import csv\n",
    "  - 建立 writer 物件\n",
    "    - csv.writer(csvfile, dialect='excel', **fmtparams)\n",
    "      - csvfile：要輸出的檔案物件\n",
    "      - dialect：指定特定CSV方言(代表一組的格式參數設定)\n",
    "      - fmtparams：覆蓋指定方言中的特定格式參數\n"
   ]
  },
  {
   "cell_type": "markdown",
   "metadata": {},
   "source": [
    "### 使用 writer 物件輸出至CSV 檔案\n",
    "  - csv.writer.writerow(row)：寫出一筆資料\n",
    "    - Row：資料以清單形式組成\n",
    "    - 清單資料會被轉成一行以分隔符號隔開的字串後寫出\n",
    "      - 非字串型態資料透過str() 轉成字串\n",
    "      - None 會轉成空字串\n",
    "  - csv.writer.writerows(rows)：寫出多筆資料\n",
    "    - rows：清單資料集合"
   ]
  },
  {
   "cell_type": "code",
   "execution_count": null,
   "metadata": {},
   "outputs": [],
   "source": [
    "# DC year to Ming-Guo year\n",
    "import csv\n",
    "data=[]\n",
    "with open('data.csv', encoding='utf-8-sig') as f:\n",
    "    csvCursor = csv.reader(f)\n",
    "    n = 0\n",
    "    for line in csvCursor:\n",
    "        if n>=1:\n",
    "            y = line[0]\n",
    "            mgn = str(int(y[:4])-1911)\n",
    "            line[0]=line[0].replace(y[:4],mgn)\n",
    "        data.append(line)\n",
    "        n+=1\n",
    "print(data)\n",
    "with open('data_mgn.csv', mode = 'w', encoding='utf-8-sig') as f:\n",
    "    csvCursor = csv.writer(f)\n",
    "    for line in data:\n",
    "        csvCursor.writerow(line) "
   ]
  },
  {
   "cell_type": "markdown",
   "metadata": {},
   "source": [
    "### Problem\n",
    "- Extra blank lines are being output between each record.\n",
    "- To resolve this, use `open(newline='')`.\n",
    "- If `newline=''` is not specified, newlines embedded within quoted fields may not be interpreted correctly. Additionally, on platforms that use `\\r\\n` line endings during writing, an extra `\\r` may be added. \n",
    "- It is always advisable to specify `newline=''`, as the `csv` module handles newline characters universally on its own.\n",
    "- **In the output generated by the above program for 'data_mgn.csv', you can observe an additional '\\r' for each occurrence of '\\r\\n' (i.e., resulting in '\\r\\r\\n')** (Use a binary viewer tool to check it)."
   ]
  },
  {
   "cell_type": "markdown",
   "metadata": {},
   "source": [
    "### 問題\n",
    "- 每條記錄之間輸出多餘的空行。\n",
    "- 為了解決這個問題，請使用 `open(newline='')`。\n",
    "- 如果不指定 `newline=''`，則嵌入在引號字段中的換行符可能無法正確解釋。此外，**在使用 `\\r\\n` 換行符的平臺上寫入時，可能會添加額外的 `\\r`**。\n",
    "- 始終建議在存取csv檔案時, open()指定 `newline=''`，亦即open()不去處理通用的換行字元, 而讓`csv` 模組自行進行通用的換行字元處理。\n",
    "- 在上述程序生成的 'data_mgn.csv' 輸出中，您可以觀察到每個 `\\r\\n` 會多出一個 `\\r`（即，結果為 `\\r\\r\\n`）。"
   ]
  },
  {
   "cell_type": "code",
   "execution_count": null,
   "metadata": {},
   "outputs": [],
   "source": [
    "# open() with newline=''\n",
    "import csv\n",
    "data=[]\n",
    "with open('data.csv', encoding='utf-8-sig', newline='') as f:\n",
    "    csvCursor = csv.reader(f)\n",
    "    n = 0\n",
    "    for line in csvCursor:\n",
    "        if n>=1:\n",
    "            y = line[0]\n",
    "            mgn = str(int(y[:4])-1911)\n",
    "            line[0]=line[0].replace(y[:4],mgn)\n",
    "        data.append(line)\n",
    "        n+=1\n",
    "print(data)\n",
    "with open('data_mgn.csv', mode = 'w', encoding='utf-8-sig', newline='') as f:\n",
    "    csvCursor = csv.writer(f)\n",
    "    for line in data:\n",
    "        csvCursor.writerow(line) "
   ]
  },
  {
   "cell_type": "markdown",
   "metadata": {},
   "source": [
    "### 使用 DictWriter物件輸出至CSV 檔案\n",
    "- 匯入csv模組\n",
    "  - import csv\n",
    "- 建立 DictWriter物件\n",
    "  - csv.DictWriter(csvfile, fieldnames, restval='', extrasaction='raise', dialect='excel',\n",
    "*args, **kwds)\n",
    "- csv.DictWriter.writeheader()：寫出欄位名稱標頭清單\n",
    "- csv.DictWriter.writerow(row)：寫出一筆資料\n",
    "  - row：資料以字典dict形式組成"
   ]
  },
  {
   "cell_type": "markdown",
   "metadata": {},
   "source": [
    "### 使用 DictWriter物件輸出至CSV 檔案\n",
    "\n",
    "- csv.DictWriter(csvfile, fieldnames, restval='', extrasaction='raise', dialect='excel', *args, **kwds)\n",
    "  - csvfile：要開啟的檔案物件\n",
    "  - fieldnames：資料欄位名稱清單\n",
    "  - restval：名稱清單比資料欄位多時，剩餘名稱使用此數據\n",
    "  - extrasaction：資料包含未指定欄位時操作行為\n",
    "    - raise：拋出 ValueError / ignore ：忽略此欄位\n",
    "  - dialect：指定特定CSV方言(代表一組的格式參數設定)\n",
    "  - *args：額外的位置參數\n",
    "  - **kwds：額外的名稱參數"
   ]
  },
  {
   "cell_type": "code",
   "execution_count": 48,
   "metadata": {},
   "outputs": [],
   "source": [
    "# Original fields: Animal ID,Intake Type,In Date,Pet name,Animal Type,Pet Age,Pet Size,Color,Breed,Sex,URL Link ,Crossing\n",
    "# Fields reduced to Pet name,Animal Type,Pet Age,Breed\n",
    "# The Pet name is changed to the capitalized form\n",
    "import csv\n",
    "filename='Adoptable_Pets.csv'\n",
    "data = []\n",
    "with open(filename) as fi:\n",
    "    dictReader = csv.DictReader(fi)\n",
    "    for record in dictReader:\n",
    "        data.append(record)\n",
    "#\n",
    "filename = 'Reduced_Adoptable_Pets.csv'\n",
    "field_names = ['Pet name','Animal Type','Pet Age','Breed']\n",
    "with open(filename, mode = 'w', newline='') as fi:\n",
    "    # ignore the extra field values in data\n",
    "    dictWriter = csv.DictWriter(fi, fieldnames=field_names, extrasaction='ignore')\n",
    "    dictWriter.writeheader()\n",
    "    for record in data:\n",
    "        record['Pet name']=record['Pet name'].lower().title()\n",
    "        dictWriter.writerow(record)"
   ]
  }
 ],
 "metadata": {
  "kernelspec": {
   "display_name": "Python 3",
   "language": "python",
   "name": "python3"
  },
  "language_info": {
   "codemirror_mode": {
    "name": "ipython",
    "version": 3
   },
   "file_extension": ".py",
   "mimetype": "text/x-python",
   "name": "python",
   "nbconvert_exporter": "python",
   "pygments_lexer": "ipython3",
   "version": "3.12.6"
  }
 },
 "nbformat": 4,
 "nbformat_minor": 2
}
