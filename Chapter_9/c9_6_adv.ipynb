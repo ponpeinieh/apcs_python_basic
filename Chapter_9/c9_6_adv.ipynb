{
 "cells": [
  {
   "cell_type": "markdown",
   "metadata": {},
   "source": [
    "`NotImplemented` 是 Python 中的一個特殊單例(Singleton)，表示對於某些型態物件不支援某個運算。它主要用於運算子過載的上下文中。\n",
    "\n",
    "### 使用 `NotImplemented` 的時機\n",
    "\n",
    "1. **運算子過載**：當您為某個運算定義方法（如 `__add__`、`__mul__` 等）時，可能會遇到不適用於相關型態的運算。在這種情況下，返回 `NotImplemented` 允許 Python 優雅地處理該情況。\n",
    "\n",
    "2. **倒退(Fallback)機制**：如果您返回 `NotImplemented`，Python 會嘗試呼叫另一個運算元(Operand)的相應反射(reflected)方法。例如，如果您為一個類別定義了 `__add__` 方法，但遇到了不支援的運算元型態，返回 `NotImplemented` 允許 Python 檢查另一個運算元是否具有相容的 `__radd__` 方法。\n",
    "\n",
    "### 範例\n",
    "\n",
    "這裡有一個範例來說明其使用方式：\n",
    "\n",
    "```python\n",
    "class Point:\n",
    "    def __init__(self, x, y):\n",
    "        self.x = x\n",
    "        self.y = y\n",
    "\n",
    "    def __add__(self, other):\n",
    "        if isinstance(other, Point):\n",
    "            return Point(self.x + other.x, self.y + other.y)\n",
    "        return NotImplemented  # 對於不支援的型態返回 NotImplemented\n",
    "\n",
    "    def __radd__(self, other):\n",
    "        # 當左側運算元不支援加法時，將呼叫此方法\n",
    "        return self  # 對於這個範例，僅返回 self\n",
    "\n",
    "# 使用範例\n",
    "p1 = Point(1, 2)\n",
    "p2 = Point(3, 4)\n",
    "\n",
    "result = p1 + p2  # 有效\n",
    "print(result)  # 輸出: Point(4, 6)\n",
    "\n",
    "result = 5 + p1 # 無效，觸發 NotImplemented\n",
    "print(result)  # 輸出: p1\n",
    "```\n",
    "\n",
    "### 使用 `NotImplemented` 的好處\n",
    "\n",
    "- **優雅的處理**：它提供了一種優雅的方式來處理不支援的運算，而不會立即引發例外。\n",
    "- **可擴展性**：如果另一個運算元定義了相容的方法，則可以處理該運算。\n",
    "- **更清晰的意圖**：使用 `NotImplemented` 使得任何閱讀您代碼的人可以清楚地知道您有意不支援某些型態的運算。\n",
    "\n",
    "### 結論\n",
    "\n",
    "總之，`NotImplemented` 是 Python 中一個有用的機制，用於運算子過載，實現對不同型態之間運算的更靈活和優雅的處理。"
   ]
  },
  {
   "cell_type": "code",
   "execution_count": 4,
   "metadata": {},
   "outputs": [
    {
     "name": "stdout",
     "output_type": "stream",
     "text": [
      "Point at (4, 6)\n",
      "Point at (1, 2)\n"
     ]
    }
   ],
   "source": [
    "class Point:\n",
    "    def __init__(self, x, y):\n",
    "        self.x = x\n",
    "        self.y = y\n",
    "\n",
    "    def __str__(self):\n",
    "        # Define a user-friendly string representation\n",
    "        return f\"Point at ({self.x}, {self.y})\"\n",
    "    \n",
    "    def __add__(self, other):\n",
    "        if isinstance(other, Point):\n",
    "            return Point(self.x + other.x, self.y + other.y)\n",
    "\n",
    "    def __radd__(self, other):\n",
    "        # 當左側運算元不支援加法時，將呼叫此方法\n",
    "        return self  # 對於這個範例，僅返回 self\n",
    "\n",
    "# 使用範例\n",
    "p1 = Point(1, 2)\n",
    "p2 = Point(3, 4)\n",
    "\n",
    "result = p1 + p2  # 有效\n",
    "print(result)  # 輸出: Point(4, 6)\n",
    "\n",
    "# result = p1 +5 # 無效，觸發 NotImplemented\n",
    "# print(result) \n",
    "\n",
    "result = 5 + p1 # 無效，觸發 NotImplemented\n",
    "print(result) "
   ]
  }
 ],
 "metadata": {
  "kernelspec": {
   "display_name": "Python 3",
   "language": "python",
   "name": "python3"
  },
  "language_info": {
   "codemirror_mode": {
    "name": "ipython",
    "version": 3
   },
   "file_extension": ".py",
   "mimetype": "text/x-python",
   "name": "python",
   "nbconvert_exporter": "python",
   "pygments_lexer": "ipython3",
   "version": "3.12.6"
  }
 },
 "nbformat": 4,
 "nbformat_minor": 2
}
