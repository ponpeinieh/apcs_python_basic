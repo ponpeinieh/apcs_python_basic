{
 "cells": [
  {
   "cell_type": "markdown",
   "metadata": {},
   "source": [
    "### Python 運算\n",
    "- 1. 數值運算\n",
    "- 2. 字串運算\n",
    "- 3. 資料輸入\n",
    "- 4. 格式化輸出\n"
   ]
  },
  {
   "cell_type": "markdown",
   "metadata": {},
   "source": [
    "### Python 中的數字類型\n",
    "\n",
    "Python 支援幾種數字類型：\n",
    "\n",
    "1. **整數 (`int`)**：整數，包括正數和負數（例如，`-5`、`0`、`42`）。\n",
    "2. **浮點數 (`float`)**：帶有小數點的數字（例如，`3.14`、`-0.001`、`2.0`）。\n",
    "3. **複數 (`complex`)**：具有實部和虛部的數字（例如，`3 + 4j`，其中 `j` 是虛數單位）。\n",
    "\n",
    "### 基本算術運算\n",
    "\n",
    "Python 支援標準的算術運算：\n",
    "\n",
    "- **加法 (`+`)**：將兩個數字相加。\n",
    "- **減法 (`-`)**：從第一個數字中減去第二個數字。\n",
    "- **乘法 (`*`)**：將兩個數字相乘。\n",
    "- **除法 (`/`)**：將第一個數字除以第二個數字，始終計算浮點數。\n",
    "- **整數除法 (`//`)**：除以並計算小於或等於結果的最大整數。\n",
    "- **取餘 (`%`)**：計算除法的餘數。\n",
    "- **指數運算 (`**`)**：將第一個數字提升到第二個數字的次方。"
   ]
  },
  {
   "cell_type": "code",
   "execution_count": null,
   "metadata": {},
   "outputs": [],
   "source": [
    "100 + 200"
   ]
  },
  {
   "cell_type": "code",
   "execution_count": null,
   "metadata": {},
   "outputs": [],
   "source": [
    "print(100+200)"
   ]
  },
  {
   "cell_type": "code",
   "execution_count": null,
   "metadata": {},
   "outputs": [],
   "source": [
    "100 - 50\n",
    "100 * 2"
   ]
  },
  {
   "cell_type": "code",
   "execution_count": null,
   "metadata": {},
   "outputs": [],
   "source": [
    "print(100-50)\n",
    "print(100*2)"
   ]
  },
  {
   "cell_type": "code",
   "execution_count": null,
   "metadata": {},
   "outputs": [],
   "source": [
    "print('100 - 50 =',100-50)"
   ]
  },
  {
   "cell_type": "markdown",
   "metadata": {},
   "source": [
    "### Python 變數簡介\n",
    "\n",
    "在 Python 中，變數是用來儲存資料的容器。變數可以持有不同類型的資料，包括數字、字串、列表、字典等。變數的使用使得程式碼更具可讀性和可維護性，並能夠在程式運行中隨時變更其值。\n",
    "\n",
    "#### 變數宣告\n",
    "\n",
    "在 Python 中，變數的宣告非常簡單，只需將變數名稱賦值即可。Python 是一種動態類型語言，這意味著變數的類型在運行時決定，不必在宣告時明確指定類型。\n",
    "\n",
    "**範例**：\n",
    "\n",
    "```python\n",
    "# 宣告變數\n",
    "name = \"Alice\"  # 字串變數\n",
    "age = 30        # 整數變數\n",
    "height = 1.75   # 浮點數變數\n",
    "is_student = True  # 布林變數\n",
    "\n",
    "# 輸出變數的值\n",
    "print(name, age, height, is_student)  # 輸出: Alice 30 1.75 True\n",
    "```"
   ]
  },
  {
   "cell_type": "code",
   "execution_count": null,
   "metadata": {},
   "outputs": [],
   "source": [
    "\n",
    "# Basic arithmetic operations\n",
    "a = 10\n",
    "b = 3\n",
    "\n",
    "# Addition\n",
    "addition = a + b          # 10 + 3 = 13\n",
    "print(\"Addition:\", addition)\n",
    "\n",
    "# Subtraction\n",
    "subtraction = a - b       # 10 - 3 = 7\n",
    "print(\"Subtraction:\", subtraction)\n",
    "\n",
    "# Multiplication\n",
    "multiplication = a * b    # 10 * 3 = 30\n",
    "print(\"Multiplication:\", multiplication)\n",
    "\n",
    "# Division\n",
    "division = a / b          # 10 / 3 = 3.3333...\n",
    "print(\"Division:\", division)\n",
    "\n",
    "# Floor Division\n",
    "floor_division = a // b   # 10 // 3 = 3\n",
    "print(\"Floor Division:\", floor_division)\n",
    "\n",
    "# Modulus\n",
    "modulus = a % b           # 10 % 3 = 1\n",
    "print(\"Modulus:\", modulus)\n",
    "\n",
    "# Exponentiation\n",
    "exponentiation = a ** b  # 10 ** 3 = 1000\n",
    "print(\"Exponentiation:\", exponentiation)"
   ]
  },
  {
   "cell_type": "markdown",
   "metadata": {},
   "source": [
    "### Python 除法\n",
    "\n",
    "- 整數相除 (`/` 或 `//`)\n",
    "  - `/` 運算結果為浮點數\n",
    "  - `//` 運算結果為整數\n",
    "- 浮點數相除\n",
    "  - `/` 會保留小數部分\n",
    "  - `//` 則會截去小數部分\n",
    "- 浮點數是二進位近似值"
   ]
  },
  {
   "cell_type": "markdown",
   "metadata": {},
   "source": [
    "### 數值運算計算順序\n",
    "\n",
    "1. 小括弧優先\n",
    "2. 次方（幂運算）\n",
    "3. 先乘除後加減\n",
    "4. 由左至右進行"
   ]
  },
  {
   "cell_type": "code",
   "execution_count": null,
   "metadata": {},
   "outputs": [],
   "source": [
    "print(10-5*3)\n",
    "print((10-5)*2)\n",
    "print(10-2+3)"
   ]
  },
  {
   "cell_type": "code",
   "execution_count": null,
   "metadata": {},
   "outputs": [],
   "source": [
    "height = 1.7\n",
    "weight = 70\n",
    "bmi = weight/height**2"
   ]
  },
  {
   "cell_type": "markdown",
   "metadata": {},
   "source": [
    "### 使用 `math` 模組進行進階計算\n",
    "\n",
    "對於更複雜的數學運算，Python 提供了 `math` 模組，其中包含三角函數、對數等的函數。\n",
    "\n",
    "#### `math` 模組中的常用函數\n",
    "\n",
    "1. **`math.sqrt(x)`**：計算 `x` 的平方根。\n",
    "2. **`math.factorial(x)`**：計算 `x` 的階乘。\n",
    "3. **`math.sin(x)`**、**`math.cos(x)`**、**`math.tan(x)`**：三角函數。\n",
    "4. **`math.log(x, base)`**：計算 `x` 在指定 `base` 下的對數。\n",
    "5. **`math.pi`**：表示 π（圓周率）的常數。 "
   ]
  },
  {
   "cell_type": "code",
   "execution_count": null,
   "metadata": {},
   "outputs": [],
   "source": [
    "import math\n",
    "\n",
    "# Square root\n",
    "sqrt_value = math.sqrt(16)  # √16 = 4.0\n",
    "print(\"Square Root:\", sqrt_value)\n",
    "\n",
    "# Factorial\n",
    "factorial_value = math.factorial(5)  # 5! = 120\n",
    "print(\"Factorial:\", factorial_value)\n",
    "\n",
    "# Trigonometric functions\n",
    "angle_rad = math.radians(90)  # Convert 90 degrees to radians\n",
    "sin_value = math.sin(angle_rad)  # sin(90°) = 1.0\n",
    "print(\"Sine of 90 degrees:\", sin_value)\n",
    "\n",
    "# Logarithm\n",
    "log_value = math.log(100, 10)  # log10(100) = 2.0\n",
    "print(\"Logarithm base 10 of 100:\", log_value)\n",
    "\n",
    "# Accessing the value of π\n",
    "print(\"Value of Pi:\", math.pi) \n",
    " "
   ]
  },
  {
   "cell_type": "code",
   "execution_count": null,
   "metadata": {},
   "outputs": [],
   "source": [
    "# 初始化變數\n",
    "x = 10\n",
    "\n",
    "# 加法賦值\n",
    "x += 5  # 等同於 x = x + 5\n",
    "print(\"加法賦值後 (+=):\", x)  # 輸出: 15\n",
    "\n",
    "# 減法賦值\n",
    "x -= 3  # 等同於 x = x - 3\n",
    "print(\"減法賦值後 (-=):\", x)  # 輸出: 12\n",
    "\n",
    "# 乘法賦值\n",
    "x *= 2  # 等同於 x = x * 2\n",
    "print(\"乘法賦值後 (*=):\", x)  # 輸出: 24\n",
    "\n",
    "# 除法賦值\n",
    "x /= 4  # 等同於 x = x / 4\n",
    "print(\"除法賦值後 (/=):\", x)  # 輸出: 6.0\n",
    "\n",
    "# 整數除法賦值\n",
    "x //= 2  # 等同於 x = x // 2\n",
    "print(\"整數除法賦值後 (//=):\", x)  # 輸出: 3.0\n",
    "\n",
    "# 取餘賦值\n",
    "x %= 2  # 等同於 x = x % 2\n",
    "print(\"取餘賦值後 (%=):\", x)  # 輸出: 1.0\n",
    "\n",
    "# 指數賦值\n",
    "x **= 3  # 等同於 x = x ** 3\n",
    "print(\"指數賦值後 (**=):\", x)  # 輸出: 1.0"
   ]
  }
 ],
 "metadata": {
  "kernelspec": {
   "display_name": "Python 3",
   "language": "python",
   "name": "python3"
  },
  "language_info": {
   "codemirror_mode": {
    "name": "ipython",
    "version": 3
   },
   "file_extension": ".py",
   "mimetype": "text/x-python",
   "name": "python",
   "nbconvert_exporter": "python",
   "pygments_lexer": "ipython3",
   "version": "3.12.6"
  }
 },
 "nbformat": 4,
 "nbformat_minor": 2
}
