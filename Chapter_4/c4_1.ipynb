{
 "cells": [
  {
   "cell_type": "markdown",
   "metadata": {},
   "source": [
    "## 課程內容\n",
    "\n",
    "### 1. 函式宣告與呼叫\n",
    "- 1-1. 函式宣告\n",
    "- 1-2. 函式呼叫\n",
    "\n",
    "### 2. 傳入參數\n",
    "- 2-1. 參數設定與對應\n",
    "- 2-2. 不定個數參數\n",
    "\n",
    "### 3. 函式進階\n",
    "- 3-1. 區域變數及範圍\n",
    "- 3-2. 參數傳遞方式\n",
    "- 3-2. Lambda運算式\n",
    "\n"
   ]
  },
  {
   "cell_type": "markdown",
   "metadata": {},
   "source": [
    "### 函式 function\n",
    "- 函式 function\n",
    "  - 重複出現的程式流程\n",
    "  - 執行時呼叫函式，減少重複的程式碼\n",
    "  - 程式容易維護，維護程式只要修改一個地方\n",
    "- python 中提供多種內建函式：\n",
    "  - print() / int() / float() / str() / sum() / min() / max() …\n",
    "- 自訂函式\n",
    "  - 將程式中重複出現的流程定義為自訂函式\n",
    "  - 函式名稱、傳入參數、傳回值\n"
   ]
  },
  {
   "cell_type": "markdown",
   "metadata": {},
   "source": [
    "### 常用內建函式\n",
    "- ord()：取得字元的編碼\n",
    "  - ord('A') \t=> 65\n",
    "  - ord('匠') \t=> 21280\n",
    "- chr(i)：取得編碼數值對應的字元\n",
    "  - chr(65)\t=>\t'A'\n",
    "  - chr(21280)\t=>\t'匠'\n",
    "- eval(source) ：轉換字串內容為數值後運算\n",
    "  - eval('3+2*4')\t =>\t11"
   ]
  },
  {
   "cell_type": "markdown",
   "metadata": {},
   "source": [
    "### Python函式宣告與呼叫\n",
    "\n",
    "- 函式宣告語法\n",
    "```python\n",
    "def 函式名稱(參數, 參數, ...)：\n",
    "    敘述\n",
    "    敘述\n",
    "    return 傳回值\n",
    "```\n",
    "\n",
    "- 函式呼叫語法\n",
    "```python\n",
    "變數 = 函式名稱(參數1, 參數2, ...)\n",
    "```"
   ]
  },
  {
   "cell_type": "markdown",
   "metadata": {},
   "source": [
    "### 函式宣告注意事項\n",
    "- 注意事項\n",
    "  - 函式區塊以 def 開始，後接函式名稱和傳入參數小括號()\n",
    "    - 冒號下一行起相同縮排就是函式的內容範圍\n",
    "    - 結束縮排即離開函式範圍\n",
    "  - 在Python裡，函式也是物件，可以存放至變數中\n",
    "- 函式名稱命名規則\n",
    "  - 大小寫字母、數字或 _，開頭字元不能是數字\n",
    "  - 不可與內建關鍵字同名，大小寫視為不同的函式"
   ]
  },
  {
   "cell_type": "markdown",
   "metadata": {},
   "source": [
    "### 參數\n",
    "- 參數注意事項\n",
    "  - 函式的傳入參數放在 ( ) 內\n",
    "  - 可以接收零個、一個或多個參數\n",
    "    - 多個參數以逗點隔開\n",
    "  - Python 參數是動態型別，可以是任意資料型態\n",
    "    - 可以是單一數值，也可以是集合\n",
    "  - 呼叫時可以參數的位置對應參數名稱(位置參數), 或者指定參數名稱(名稱參數)\n"
   ]
  },
  {
   "cell_type": "markdown",
   "metadata": {},
   "source": [
    "### 傳回值\n",
    "- 傳回值注意事項\n",
    "  - 函式結尾處以 return 語法傳回物件\n",
    "  - return 後可接一個運算式或者變數資料\n",
    "  - return 只能回傳一個物件，多筆資料可放在集合容器內後回傳\n",
    "  - 未指定時回傳None物件\n",
    "    - return\n",
    "    - 或省略 return\n"
   ]
  },
  {
   "cell_type": "code",
   "execution_count": null,
   "metadata": {},
   "outputs": [],
   "source": [
    "def greet_user():\n",
    "    print(\"Hello!\")\n",
    "greet_user()"
   ]
  },
  {
   "cell_type": "code",
   "execution_count": null,
   "metadata": {},
   "outputs": [],
   "source": [
    "\n",
    "def greet_user(username):\n",
    "    print(f\"Hello, {username.title()}!\")\n",
    "    return\n",
    "greet_user('jesse')"
   ]
  },
  {
   "cell_type": "code",
   "execution_count": null,
   "metadata": {},
   "outputs": [],
   "source": [
    "def get_formatted_name(first_name, last_name):\n",
    "    full_name = f\"{first_name} {last_name}\"\n",
    "    return full_name.title()\n",
    "\n",
    "musician = get_formatted_name('jimi', 'hendrix')\n",
    "print(musician)"
   ]
  },
  {
   "cell_type": "markdown",
   "metadata": {},
   "source": [
    "### 同名函式\n",
    "- Python 程式內出現同名稱的函式定義\n",
    "  - 最後定義的函式覆蓋前面的定義\n",
    "    - 程式中出現同名函式時，執行內容為最後一個函式\n",
    "  - Python 函式不支援參數過載\n",
    "    - 執行函式時所有參數均需要有數值\n",
    "    - 函式中參數沒有型別宣告，無法以參數型別辨別資料意義。"
   ]
  },
  {
   "cell_type": "code",
   "execution_count": null,
   "metadata": {},
   "outputs": [],
   "source": [
    "def get_sum(a,b):\n",
    "    return a+b\n",
    "def get_sum(a,b,c):\n",
    "    return a+b+c\n",
    "\n",
    "print('1+2+3=',get_sum(1,2,3))\n",
    "print('1+2=',get_sum(1,2)) # 錯誤"
   ]
  },
  {
   "cell_type": "markdown",
   "metadata": {},
   "source": [
    "### 練習\n",
    "- 攝氏溫度轉換華氏溫度程式\n",
    "  - 將攝氏溫度（C）轉換為華氏溫度（F）的運算寫成一個函式\n",
    "    - 傳入參數為攝氏溫度\n",
    "    - 傳回值為華氏溫度\n",
    "    - 轉換公式為：F=9/5*C+32\n",
    "  - 取得使用者輸入的攝氏溫度後，呼叫函式取得華氏溫度\n",
    "    - 輸入q時離開"
   ]
  },
  {
   "cell_type": "code",
   "execution_count": null,
   "metadata": {},
   "outputs": [],
   "source": [
    "def temp(c):\n",
    "    return 9/5*c+32\n",
    "\n",
    "while True:\n",
    "    c = input('請輸入攝氏溫度:')\n",
    "    if c=='q':\n",
    "        break\n",
    "    f = temp(float(c))\n",
    "    print(f'華氏溫度為{f}')"
   ]
  },
  {
   "cell_type": "markdown",
   "metadata": {},
   "source": [
    "### 函式參數設定與對應\n",
    "\n",
    "- Python 不支援函式過載(C++或Java語言)\n",
    "  - 函式過載: 相同函式名稱但是不同參數數量或型態\n",
    "    - Python 是動態型別，無法用型態來辨識參數的意義\n",
    "\n",
    "- 參數宣告預設值\n",
    "  - 呼叫時若未傳入參數時，表示該參數會使用預設值\n",
    "  - 函式宣告中，一但某個參數宣告預設值，之後的參數都要宣告預設值\n",
    "  - Python可以利用參數預設值來做到'不同參數數量'的過載的等效功能"
   ]
  },
  {
   "cell_type": "code",
   "execution_count": null,
   "metadata": {},
   "outputs": [],
   "source": [
    "def get_sum(a,b,c=0):\n",
    "    return a+b+c\n",
    "\n",
    "print('1+2+3=',get_sum(1,2,3))\n",
    "print('1+2=',get_sum(1,2)) \n",
    "print(get_sum(1)) #錯誤"
   ]
  },
  {
   "cell_type": "code",
   "execution_count": null,
   "metadata": {},
   "outputs": [],
   "source": [
    "def describe_pet(animal_type, pet_name):\n",
    "    print(f\"I have a {animal_type}.\")\n",
    "    print(f\"My {animal_type}'s name is {pet_name.title()}.\")\n",
    "\n",
    "describe_pet('hamster', 'harry')"
   ]
  },
  {
   "cell_type": "code",
   "execution_count": null,
   "metadata": {},
   "outputs": [],
   "source": []
  },
  {
   "cell_type": "markdown",
   "metadata": {},
   "source": [
    "### docstring\n",
    "   - Python docstrings are the string literals that appear right after the definition of a function, method, class, or module.\n",
    "   - For example, Inside the triple quotation marks is the docstring of the function square() as it appears right after its definition.\n",
    "   \n",
    "```python\n",
    "def square(n):\n",
    "    '''Takes in a number n, returns the square of n'''\n",
    "    return n**2\n",
    "```\n",
    "   - We can access these docstrings using the __doc__ attribute.\n",
    "   - Printing docstring\n",
    "\n",
    "```python\n",
    "print(square.__doc__)\n",
    "```\n",
    "\n",
    "### docstring（文件字串）\n",
    "   - Python 的 docstring 是出現在函數、方法、類別或模組定義後的字串文字。\n",
    "   - 例如，在三個引號內的內容是函數 `square()` 的 docstring，因為它緊跟在定義之後。\n",
    "   \n",
    "```python\n",
    "def square(n):\n",
    "    '''接收一個數字 n，回傳 n 的平方'''\n",
    "    return n**2\n",
    "```\n",
    "   - 我們可以使用 `__doc__` 屬性來存取這些 docstring。\n",
    "   - 列印 docstring\n",
    "\n",
    "```python\n",
    "print(square.__doc__)\n",
    "```\n"
   ]
  },
  {
   "cell_type": "code",
   "execution_count": null,
   "metadata": {},
   "outputs": [],
   "source": [
    "def square(n):\n",
    "    '''接收一個數字 n，回傳 n 的平方'''\n",
    "    return n**2\n",
    "print(square.__doc__)"
   ]
  }
 ],
 "metadata": {
  "kernelspec": {
   "display_name": "Python 3",
   "language": "python",
   "name": "python3"
  },
  "language_info": {
   "codemirror_mode": {
    "name": "ipython",
    "version": 3
   },
   "file_extension": ".py",
   "mimetype": "text/x-python",
   "name": "python",
   "nbconvert_exporter": "python",
   "pygments_lexer": "ipython3",
   "version": "3.12.6"
  }
 },
 "nbformat": 4,
 "nbformat_minor": 2
}
